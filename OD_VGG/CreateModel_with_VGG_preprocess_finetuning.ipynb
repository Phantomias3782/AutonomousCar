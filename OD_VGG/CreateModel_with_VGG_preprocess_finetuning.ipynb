{
 "cells": [
  {
   "cell_type": "code",
   "execution_count": 1,
   "metadata": {},
   "outputs": [
    {
     "name": "stderr",
     "output_type": "stream",
     "text": [
      "Using TensorFlow backend.\n"
     ]
    }
   ],
   "source": [
    "from keras.applications.vgg16 import VGG16, preprocess_input\n",
    "from keras.applications.inception_v3 import InceptionV3\n",
    "from keras.applications.inception_resnet_v2 import InceptionResNetV2\n",
    "from keras.applications.mobilenet import MobileNet\n",
    "from keras.applications.densenet import DenseNet121\n",
    "from keras.applications.nasnet import NASNetLarge\n",
    "from keras.applications.mobilenet_v2 import MobileNetV2\n",
    "import keras\n",
    "from keras import optimizers \n",
    "\n",
    "\n",
    "from keras.layers import Conv2D, GlobalMaxPooling2D, MaxPooling2D, Dense, Input, Flatten, Dropout, BatchNormalization\n",
    "from keras.models import Model, load_model, Sequential\n",
    "import tensorflow as tf\n",
    "from keras.utils import to_categorical\n",
    "from keras.callbacks import ModelCheckpoint\n",
    "from keras.preprocessing.image import ImageDataGenerator\n",
    "import matplotlib.pyplot as plt\n",
    "from sklearn.metrics import classification_report, confusion_matrix\n",
    "import seaborn as sns \n",
    "import numpy as np"
   ]
  },
  {
   "cell_type": "code",
   "execution_count": 2,
   "metadata": {},
   "outputs": [],
   "source": [
    "data_dir = 'data/'\n",
    "OUTPUT_FOLDER = \"./savedRuns/\""
   ]
  },
  {
   "cell_type": "code",
   "execution_count": 3,
   "metadata": {
    "_cell_guid": "b1076dfc-b9ad-4769-8c92-a6c4dae69d19",
    "_uuid": "8f2839f25d086af736a60e9eeb907d3b93b6e0e5"
   },
   "outputs": [
    {
     "name": "stdout",
     "output_type": "stream",
     "text": [
      "no person\n",
      "person\n"
     ]
    }
   ],
   "source": [
    "labels = []\n",
    "import os\n",
    "for folder in os.listdir(data_dir):\n",
    "    if folder != \".DS_Store\":\n",
    "        labels.append(folder)\n",
    "        print(folder)"
   ]
  },
  {
   "cell_type": "code",
   "execution_count": 4,
   "metadata": {},
   "outputs": [
    {
     "name": "stdout",
     "output_type": "stream",
     "text": [
      "Found 128 images belonging to 2 classes.\n",
      "Found 31 images belonging to 2 classes.\n"
     ]
    }
   ],
   "source": [
    "BATCH_SIZE = 10 #150\n",
    "IMAGE_SIZE=(150,150)\n",
    "IMAGE_SHAPE=(150,150,3)\n",
    "#Dataagumentation for better results on small data\n",
    "train_datagen = ImageDataGenerator(\n",
    "    preprocessing_function=preprocess_input,\n",
    "                                   shear_range=0.2,\n",
    "                                   zoom_range=0.3,\n",
    "                                   rotation_range=50,\n",
    "                                   horizontal_flip=True,\n",
    "                                   fill_mode=\"nearest\",\n",
    "                                   validation_split=0.20) \n",
    "                                   \n",
    "train_generator = train_datagen.flow_from_directory(\n",
    "    data_dir,\n",
    "    target_size = IMAGE_SIZE,\n",
    "    shuffle=True,\n",
    "    batch_size=BATCH_SIZE,\n",
    "    class_mode='categorical',\n",
    "    subset='training') \n",
    "\n",
    "validation_generator = train_datagen.flow_from_directory(\n",
    "    data_dir, \n",
    "    target_size = IMAGE_SIZE,\n",
    "    batch_size=BATCH_SIZE,\n",
    "    shuffle= False,\n",
    "    class_mode='categorical',\n",
    "    subset='validation') "
   ]
  },
  {
   "cell_type": "code",
   "execution_count": 5,
   "metadata": {},
   "outputs": [
    {
     "data": {
      "text/plain": [
       "{'no person': 0, 'person': 1}"
      ]
     },
     "execution_count": 5,
     "metadata": {},
     "output_type": "execute_result"
    }
   ],
   "source": [
    "train_generator.class_indices"
   ]
  },
  {
   "cell_type": "code",
   "execution_count": 6,
   "metadata": {},
   "outputs": [],
   "source": [
    "#learningcurve plot\n",
    "def history(history, show_val = False):\n",
    "    plt.figure(figsize = (8,8))\n",
    "    plt.plot(history.history['accuracy'], label='training accuracy')\n",
    "    if show_val:\n",
    "        plt.plot(history.history['val_accuracy'], label='val accuracy')\n",
    "        plt.plot(history.history['val_loss'], label='val loss')\n",
    "    plt.ylim(ymax=2,ymin=0)\n",
    "    plt.plot(history.history['loss'], label='training loss')\n",
    "    plt.title('Loss/Accuracy')\n",
    "    plt.xlabel('epochs')\n",
    "    plt.ylabel('loss')\n",
    "    plt.legend()\n",
    "#    plt.savefig(\"CNN_30_Epochs\")\n",
    "    plt.show()"
   ]
  },
  {
   "cell_type": "code",
   "execution_count": 7,
   "metadata": {},
   "outputs": [],
   "source": [
    "#Define outputfile\n",
    "\n",
    "filepath= \"./savedRuns/BildTagging-{epoch:02d}-{val_acc:.4f}.h5\"\n",
    "checkpoint = ModelCheckpoint(filepath, monitor='val_acc', verbose=1, save_best_only=True, mode='max', save_weights_only=False)\n",
    "callbacks_list = [checkpoint]"
   ]
  },
  {
   "cell_type": "code",
   "execution_count": 8,
   "metadata": {},
   "outputs": [
    {
     "name": "stdout",
     "output_type": "stream",
     "text": [
      "WARNING:tensorflow:From C:\\Users\\janbr\\AppData\\Roaming\\Python\\Python36\\site-packages\\tensorflow\\python\\framework\\op_def_library.py:263: colocate_with (from tensorflow.python.framework.ops) is deprecated and will be removed in a future version.\n",
      "Instructions for updating:\n",
      "Colocations handled automatically by placer.\n",
      "WARNING:tensorflow:From c:\\users\\janbr\\appdata\\local\\programs\\python\\python36\\lib\\site-packages\\keras\\backend\\tensorflow_backend.py:3445: calling dropout (from tensorflow.python.ops.nn_ops) with keep_prob is deprecated and will be removed in a future version.\n",
      "Instructions for updating:\n",
      "Please use `rate` instead of `keep_prob`. Rate should be set to `rate = 1 - keep_prob`.\n",
      "_________________________________________________________________\n",
      "Layer (type)                 Output Shape              Param #   \n",
      "=================================================================\n",
      "model_1 (Model)              (None, 8192)              14714688  \n",
      "_________________________________________________________________\n",
      "dense_1 (Dense)              (None, 512)               4194816   \n",
      "_________________________________________________________________\n",
      "dropout_1 (Dropout)          (None, 512)               0         \n",
      "_________________________________________________________________\n",
      "dense_2 (Dense)              (None, 512)               262656    \n",
      "_________________________________________________________________\n",
      "dropout_2 (Dropout)          (None, 512)               0         \n",
      "_________________________________________________________________\n",
      "dense_3 (Dense)              (None, 2)                 1026      \n",
      "=================================================================\n",
      "Total params: 19,173,186\n",
      "Trainable params: 17,437,698\n",
      "Non-trainable params: 1,735,488\n",
      "_________________________________________________________________\n"
     ]
    }
   ],
   "source": [
    "#Create Model    \n",
    "pretrained_model = VGG16(include_top=False, weights='imagenet',input_shape=IMAGE_SHAPE)\n",
    "\n",
    "output = pretrained_model.layers[-1].output\n",
    "output = keras.layers.Flatten()(output)\n",
    "pretrained_model = Model(pretrained_model.input,output)\n",
    "\n",
    "pretrained_model.trainable = True\n",
    "set_trainable = False\n",
    "for layer in pretrained_model.layers:\n",
    "    layer.trainable = False\n",
    "\n",
    "for layer in pretrained_model.layers: \n",
    "    if layer.name in ['block5_conv1', 'block4_conv1']: \n",
    "        set_trainable = True \n",
    "    if set_trainable: \n",
    "        layer.trainable = True \n",
    "    else: \n",
    "        layer.trainable = False \n",
    "\n",
    "model = Sequential()\n",
    "model.add(pretrained_model)\n",
    "model.add(Dense(512,activation='relu',input_dim=pretrained_model.output_shape[1]))\n",
    "model.add(Dropout(0.3))\n",
    "model.add(Dense(512,activation='relu'))\n",
    "model.add(Dropout(0.3))\n",
    "model.add(Dense(len(train_generator.class_indices), activation='softmax'))\n",
    "model.compile(loss='categorical_crossentropy', optimizer=optimizers.RMSprop(lr=1e-4), metrics=['accuracy'])\n",
    "          \n",
    "model.summary()"
   ]
  },
  {
   "cell_type": "code",
   "execution_count": 9,
   "metadata": {},
   "outputs": [
    {
     "data": {
      "text/html": [
       "<div>\n",
       "<style scoped>\n",
       "    .dataframe tbody tr th:only-of-type {\n",
       "        vertical-align: middle;\n",
       "    }\n",
       "\n",
       "    .dataframe tbody tr th {\n",
       "        vertical-align: top;\n",
       "    }\n",
       "\n",
       "    .dataframe thead th {\n",
       "        text-align: right;\n",
       "    }\n",
       "</style>\n",
       "<table border=\"1\" class=\"dataframe\">\n",
       "  <thead>\n",
       "    <tr style=\"text-align: right;\">\n",
       "      <th></th>\n",
       "      <th>Layer Type</th>\n",
       "      <th>Layer Name</th>\n",
       "      <th>Layer  Trainable</th>\n",
       "    </tr>\n",
       "  </thead>\n",
       "  <tbody>\n",
       "    <tr>\n",
       "      <th>0</th>\n",
       "      <td>&lt;keras.engine.training.Model object at 0x000001B7A07E9B00&gt;</td>\n",
       "      <td>model_1</td>\n",
       "      <td>True</td>\n",
       "    </tr>\n",
       "    <tr>\n",
       "      <th>1</th>\n",
       "      <td>&lt;keras.layers.core.Dense object at 0x000001B7A07E9C88&gt;</td>\n",
       "      <td>dense_1</td>\n",
       "      <td>True</td>\n",
       "    </tr>\n",
       "    <tr>\n",
       "      <th>2</th>\n",
       "      <td>&lt;keras.layers.core.Dropout object at 0x000001B7A4067B70&gt;</td>\n",
       "      <td>dropout_1</td>\n",
       "      <td>True</td>\n",
       "    </tr>\n",
       "    <tr>\n",
       "      <th>3</th>\n",
       "      <td>&lt;keras.layers.core.Dense object at 0x000001B7A5062BA8&gt;</td>\n",
       "      <td>dense_2</td>\n",
       "      <td>True</td>\n",
       "    </tr>\n",
       "    <tr>\n",
       "      <th>4</th>\n",
       "      <td>&lt;keras.layers.core.Dropout object at 0x000001B7A08BDC88&gt;</td>\n",
       "      <td>dropout_2</td>\n",
       "      <td>True</td>\n",
       "    </tr>\n",
       "    <tr>\n",
       "      <th>5</th>\n",
       "      <td>&lt;keras.layers.core.Dense object at 0x000001B7A08E38D0&gt;</td>\n",
       "      <td>dense_3</td>\n",
       "      <td>True</td>\n",
       "    </tr>\n",
       "  </tbody>\n",
       "</table>\n",
       "</div>"
      ],
      "text/plain": [
       "                                                   Layer Type Layer Name  \\\n",
       "0  <keras.engine.training.Model object at 0x000001B7A07E9B00>  model_1     \n",
       "1  <keras.layers.core.Dense object at 0x000001B7A07E9C88>      dense_1     \n",
       "2  <keras.layers.core.Dropout object at 0x000001B7A4067B70>    dropout_1   \n",
       "3  <keras.layers.core.Dense object at 0x000001B7A5062BA8>      dense_2     \n",
       "4  <keras.layers.core.Dropout object at 0x000001B7A08BDC88>    dropout_2   \n",
       "5  <keras.layers.core.Dense object at 0x000001B7A08E38D0>      dense_3     \n",
       "\n",
       "   Layer  Trainable  \n",
       "0  True              \n",
       "1  True              \n",
       "2  True              \n",
       "3  True              \n",
       "4  True              \n",
       "5  True              "
      ]
     },
     "execution_count": 9,
     "metadata": {},
     "output_type": "execute_result"
    }
   ],
   "source": [
    "import pandas as pd \n",
    "pd.set_option('max_colwidth', -1) \n",
    " \n",
    "layers = [(layer, layer.name, layer.trainable) for layer in model.layers] \n",
    "pd.DataFrame(layers, columns=['Layer Type', 'Layer Name', 'Layer  Trainable'])"
   ]
  },
  {
   "cell_type": "code",
   "execution_count": 10,
   "metadata": {},
   "outputs": [
    {
     "name": "stdout",
     "output_type": "stream",
     "text": [
      "WARNING:tensorflow:From C:\\Users\\janbr\\AppData\\Roaming\\Python\\Python36\\site-packages\\tensorflow\\python\\ops\\math_ops.py:3066: to_int32 (from tensorflow.python.ops.math_ops) is deprecated and will be removed in a future version.\n",
      "Instructions for updating:\n",
      "Use tf.cast instead.\n",
      "Epoch 1/20\n",
      "12/12 [==============================] - 66s 5s/step - loss: 2.6661 - acc: 0.7417 - val_loss: 1.9541e-05 - val_acc: 1.0000\n",
      "\n",
      "Epoch 00001: val_acc improved from -inf to 1.00000, saving model to ./savedRuns/BildTagging-01-1.0000.h5\n",
      "Epoch 2/20\n",
      "12/12 [==============================] - 62s 5s/step - loss: 0.9694 - acc: 0.8395 - val_loss: 2.4449e-05 - val_acc: 1.0000\n",
      "\n",
      "Epoch 00002: val_acc did not improve from 1.00000\n",
      "Epoch 3/20\n",
      "12/12 [==============================] - 60s 5s/step - loss: 2.4502 - acc: 0.8228 - val_loss: 1.1921e-07 - val_acc: 1.0000\n",
      "\n",
      "Epoch 00003: val_acc did not improve from 1.00000\n",
      "Epoch 4/20\n",
      "12/12 [==============================] - 60s 5s/step - loss: 0.2816 - acc: 0.9750 - val_loss: 1.1921e-07 - val_acc: 1.0000\n",
      "\n",
      "Epoch 00004: val_acc did not improve from 1.00000\n",
      "Epoch 5/20\n",
      "12/12 [==============================] - 64s 5s/step - loss: 0.9777 - acc: 0.9249 - val_loss: 5.6982 - val_acc: 0.6000\n",
      "\n",
      "Epoch 00005: val_acc did not improve from 1.00000\n",
      "Epoch 6/20\n",
      "12/12 [==============================] - 60s 5s/step - loss: 1.8101 - acc: 0.8793 - val_loss: 3.7266 - val_acc: 0.6190\n",
      "\n",
      "Epoch 00006: val_acc did not improve from 1.00000\n",
      "Epoch 7/20\n",
      "12/12 [==============================] - 59s 5s/step - loss: 1.9524 - acc: 0.8581 - val_loss: 1.1921e-07 - val_acc: 1.0000\n",
      "\n",
      "Epoch 00007: val_acc did not improve from 1.00000\n",
      "Epoch 8/20\n",
      "12/12 [==============================] - 59s 5s/step - loss: 0.7035 - acc: 0.9564 - val_loss: 1.1921e-07 - val_acc: 1.0000\n",
      "\n",
      "Epoch 00008: val_acc did not improve from 1.00000\n",
      "Epoch 9/20\n",
      "12/12 [==============================] - 63s 5s/step - loss: 0.9414 - acc: 0.9416 - val_loss: 1.1921e-07 - val_acc: 1.0000\n",
      "\n",
      "Epoch 00009: val_acc did not improve from 1.00000\n",
      "Epoch 10/20\n",
      "12/12 [==============================] - 61s 5s/step - loss: 0.6725 - acc: 0.9583 - val_loss: 1.1921e-07 - val_acc: 1.0000\n",
      "\n",
      "Epoch 00010: val_acc did not improve from 1.00000\n",
      "Epoch 11/20\n",
      "12/12 [==============================] - 59s 5s/step - loss: 0.8070 - acc: 0.9499 - val_loss: 1.1921e-07 - val_acc: 1.0000\n",
      "\n",
      "Epoch 00011: val_acc did not improve from 1.00000\n",
      "Epoch 12/20\n",
      "12/12 [==============================] - 60s 5s/step - loss: 0.8689 - acc: 0.9461 - val_loss: 1.1921e-07 - val_acc: 1.0000\n",
      "\n",
      "Epoch 00012: val_acc did not improve from 1.00000\n",
      "Epoch 13/20\n",
      "12/12 [==============================] - 62s 5s/step - loss: 0.8380 - acc: 0.9480 - val_loss: 1.1921e-07 - val_acc: 1.0000\n",
      "\n",
      "Epoch 00013: val_acc did not improve from 1.00000\n",
      "Epoch 14/20\n",
      "12/12 [==============================] - 61s 5s/step - loss: 0.6716 - acc: 0.9583 - val_loss: 1.1921e-07 - val_acc: 1.0000\n",
      "\n",
      "Epoch 00014: val_acc did not improve from 1.00000\n",
      "Epoch 15/20\n",
      "12/12 [==============================] - 59s 5s/step - loss: 0.8380 - acc: 0.9480 - val_loss: 1.1921e-07 - val_acc: 1.0000\n",
      "\n",
      "Epoch 00015: val_acc did not improve from 1.00000\n",
      "Epoch 16/20\n",
      "12/12 [==============================] - 59s 5s/step - loss: 0.6725 - acc: 0.9583 - val_loss: 1.1921e-07 - val_acc: 1.0000\n",
      "\n",
      "Epoch 00016: val_acc did not improve from 1.00000\n",
      "Epoch 17/20\n",
      "12/12 [==============================] - 61s 5s/step - loss: 1.1069 - acc: 0.9313 - val_loss: 1.1921e-07 - val_acc: 1.0000\n",
      "\n",
      "Epoch 00017: val_acc did not improve from 1.00000\n",
      "Epoch 18/20\n",
      "12/12 [==============================] - 59s 5s/step - loss: 0.6725 - acc: 0.9583 - val_loss: 1.1921e-07 - val_acc: 1.0000\n",
      "\n",
      "Epoch 00018: val_acc did not improve from 1.00000\n",
      "Epoch 19/20\n",
      "12/12 [==============================] - 59s 5s/step - loss: 0.8070 - acc: 0.9499 - val_loss: 1.1921e-07 - val_acc: 1.0000\n",
      "\n",
      "Epoch 00019: val_acc did not improve from 1.00000\n",
      "Epoch 20/20\n",
      "12/12 [==============================] - 59s 5s/step - loss: 0.6725 - acc: 0.9583 - val_loss: 1.1921e-07 - val_acc: 1.0000\n",
      "\n",
      "Epoch 00020: val_acc did not improve from 1.00000\n"
     ]
    }
   ],
   "source": [
    "EPOCHS = 20\n",
    "hist = model.fit_generator(\n",
    "    train_generator,\n",
    "    steps_per_epoch = train_generator.samples//BATCH_SIZE,\n",
    "    validation_data = validation_generator, \n",
    "    validation_steps = validation_generator.samples//BATCH_SIZE,\n",
    "    epochs = EPOCHS,\n",
    "    verbose=1,\n",
    "    callbacks=callbacks_list)\n",
    "model.save('VGG_finetuning_run_30_with_pre.h5')\n",
    "#history(hist, True)"
   ]
  },
  {
   "cell_type": "code",
   "execution_count": 12,
   "metadata": {},
   "outputs": [],
   "source": [
    "model_json = model.to_json()\n",
    "with open(\"model.json\", \"w\") as json_file:\n",
    "    json_file.write(model_json)\n",
    "# serialize weights to HDF5\n",
    "model.save_weights(\"model.h5\")"
   ]
  },
  {
   "cell_type": "code",
   "execution_count": null,
   "metadata": {},
   "outputs": [],
   "source": [
    "#Confusion Matrix\n",
    "validation_generator.reset\n",
    "Y_pred = model.predict_generator(validation_generator, validation_generator.samples // BATCH_SIZE+1)\n",
    "y_pred = np.argmax(Y_pred, axis=1)\n",
    "print('Confusion Matrix')\n",
    "print(confusion_matrix(validation_generator.classes, y_pred))\n",
    "print('Classification Report')\n",
    "print(classification_report(validation_generator.classes, y_pred))"
   ]
  },
  {
   "cell_type": "code",
   "execution_count": null,
   "metadata": {},
   "outputs": [],
   "source": [
    "ax= plt.subplot()\n",
    "sns.heatmap(confusion_matrix(validation_generator.classes, y_pred), annot=True, ax = ax, fmt='g', cmap='Greens') #annot=True to annotate cells\n",
    "\n",
    "ax.set_xlabel('Predicted labels');ax.set_ylabel('True labels') \n",
    "ax.set_title('Confusion Matrix') \n",
    "\n",
    "\n",
    "ax.xaxis.set_ticklabels(labels,rotation=45)\n",
    "ax.yaxis.set_ticklabels(labels,rotation=0)"
   ]
  }
 ],
 "metadata": {
  "kernelspec": {
   "display_name": "Python 3",
   "language": "python",
   "name": "python3"
  },
  "language_info": {
   "codemirror_mode": {
    "name": "ipython",
    "version": 3
   },
   "file_extension": ".py",
   "mimetype": "text/x-python",
   "name": "python",
   "nbconvert_exporter": "python",
   "pygments_lexer": "ipython3",
   "version": "3.6.8"
  }
 },
 "nbformat": 4,
 "nbformat_minor": 4
}
